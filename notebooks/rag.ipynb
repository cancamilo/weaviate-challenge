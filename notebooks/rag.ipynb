{
 "cells": [
  {
   "cell_type": "markdown",
   "metadata": {},
   "source": [
    "# RAG demo"
   ]
  },
  {
   "cell_type": "code",
   "execution_count": 1,
   "metadata": {},
   "outputs": [],
   "source": [
    "%load_ext autoreload\n",
    "%autoreload 2\n",
    "\n",
    "import os\n",
    "import sys\n",
    "import pandas as pd\n",
    "\n",
    "# Do this to enable importing modules\n",
    "src_path = os.path.join(os.path.abspath(\"\"), \"..\")\n",
    "sys.path.insert(0, src_path)\n",
    "\n",
    "from dotenv import load_dotenv, find_dotenv\n",
    "load_dotenv(find_dotenv()) # read local .env file\n",
    "import weaviate\n",
    "import weaviate.classes as wvc\n",
    "import os\n",
    "import requests\n",
    "import json\n",
    "from llm_components.prompt_templates import QueryMetadata\n",
    "from langchain_core.utils.function_calling import convert_to_openai_function\n",
    "from langchain_core.prompts import PromptTemplate, ChatPromptTemplate\n",
    "from langchain.globals import set_debug\n",
    "from langchain.output_parsers.openai_functions import JsonOutputFunctionsParser\n",
    "from datetime import datetime\n",
    "from langchain_openai import ChatOpenAI\n",
    "from rag.query_expansion import QueryExpansion\n",
    "from rag.query_meta_extractor import QueryMetaExtractor"
   ]
  },
  {
   "cell_type": "markdown",
   "metadata": {},
   "source": [
    "## 1. Query metadata extraction"
   ]
  },
  {
   "cell_type": "code",
   "execution_count": null,
   "metadata": {},
   "outputs": [],
   "source": [
    "openai_functions = [convert_to_openai_function(QueryMetadata)]\n",
    "set_debug(False)\n",
    "current_date = datetime.now().strftime(format=\"%Y-%m-%d\")\n",
    "\n",
    "template = ChatPromptTemplate.from_messages([\n",
    "    (\"system\", \"Today´s date is {current_date}.\"),\n",
    "    (\"human\", \"{user_query}\"),\n",
    "])\n",
    "\n",
    "model = ChatOpenAI(temperature=0)\n",
    "parser = JsonOutputFunctionsParser()\n",
    "chain = template | model.bind(functions=openai_functions) | parser\n",
    "\n",
    "query = \"What is the price of btc today?\"\n",
    "chain.invoke({\"current_date\":current_date,  \"user_query\": query})"
   ]
  },
  {
   "cell_type": "markdown",
   "metadata": {},
   "source": [
    "## 2. Query Augmentation"
   ]
  },
  {
   "cell_type": "code",
   "execution_count": 3,
   "metadata": {},
   "outputs": [],
   "source": [
    "from weaviate.classes.query import Filter\n",
    "client = weaviate.connect_to_wcs(\n",
    "    cluster_url=\"news-db-h6x724lk.weaviate.network\",\n",
    "    skip_init_checks=True,\n",
    "    auth_credentials=weaviate.auth.AuthApiKey(os.getenv(\"WCS_API_KEY\")),\n",
    "    headers={\n",
    "        \"X-OpenAI-Api-Key\": os.environ[\"OPENAI_API_KEY\"]\n",
    "    }\n",
    ")"
   ]
  },
  {
   "cell_type": "code",
   "execution_count": 14,
   "metadata": {},
   "outputs": [
    {
     "name": "stdout",
     "output_type": "stream",
     "text": [
      "{'title': ' Grayscale’s Ethereum ETF could bleed $110M daily in first month: Kaiko ', 'published_at': '2024-05-28', 'content': 'Grayscale’s yet-to-launch spot Ether  ETH  $3,890  exchange-traded fund (ETF) could bleed an average of $110 million per day if it follows a similar pattern to its Grayscale Bitcoin Trust in the first month.\\xa0  ETH   $3,890  The Grayscale Bitcoin Trust (GBTC) converted from a closed-end fund to an ETF on Jan. 11, which saw 23% of its assets under management at launch flow out in the first month — totaling $6.5 billion, Kaiko analysts wrote in a May 27 report. ETHE has an AUM of $11 billion. If it has “a similar magnitude of outflows” as GBTC, “this would amount to $110 million of average daily outflows or 30% of ETH’s average daily volume on Coinbase,” according to Kaiko. In the past three months, Grayscale’s ETHE traded at up to a 26% discount to its net asset value (NAV). Kaiko researchers noted that once it becomes a spot ETF, it’s “reasonable to expect” outflows or redemptions as that discount narrows. GBTC’s discount to NAV — how much it traded below the value of the fund’s holdings — sharply narrowed after it converted to an ETF. It traded at up to a 17% discount before its conversion but has narrowed over time, allowing many holders to exit GBTC at either the same price they got in or better.  According to YCharts, it’s now at a 0.03% discount for May 24, a level it has hovered around since then.  ETHE’s discount has already narrowed since the Securities and Exchange Commission gave the initial nod to spot Ether ETFs on May 23, though it has yet to begin trading as a spot ETF.  Related: What comes after spot Ether ETF approvals? Execs weigh in On May 1, ETHE traded at an over 25% discount before steadily narrowing over the month amid speculation the SEC would approve spot Ether ETFs, then quickly reached a 1.28% discount on May 24, YCharts data shows. Kaiko analysts also noted that GBTC’s outflows were surpassed by inflows into other Bitcoin ETFs by the end of January. Kaiko concluded even if Ether ETF inflows “disappoint in the short term the approval has important implications for ETH as an asset, removing some of the regulatory uncertainty which has weighed on ETH’s performance over the past year.”  Magazine: Joe Lubin — The truth about ETH founders split and ‘Crypto Google’ Add reaction', 'summary': ' If Grayscale’s slated spot Ether ETF follows the same path as its Bitcoin one, there could be some short-term pressure on the price of ETH. '}\n"
     ]
    }
   ],
   "source": [
    "from weaviate.classes.query import Filter, MetadataQuery\n",
    "articles = client.collections.get(\"Articles\")\n",
    "\n",
    "user_query = \"News about the bitcoin ETFs\" \n",
    "\n",
    "response = articles.query.near_text(\n",
    "    query=user_query,\n",
    "    limit=5,\n",
    "    filters=Filter.by_property(\"published_at\").equal(\"2024-05-28\"),\n",
    "    return_metadata=MetadataQuery(distance=True)\n",
    ")\n",
    "\n",
    "print(response.objects[0].properties)  # Inspect the first object"
   ]
  },
  {
   "cell_type": "code",
   "execution_count": 13,
   "metadata": {},
   "outputs": [
    {
     "data": {
      "text/plain": [
       "'ffd6a14c-9fa2-4a96-a58f-d01a221202f4'"
      ]
     },
     "execution_count": 13,
     "metadata": {},
     "output_type": "execute_result"
    }
   ],
   "source": [
    "str(response.objects[0].uuid)"
   ]
  },
  {
   "cell_type": "code",
   "execution_count": 17,
   "metadata": {},
   "outputs": [
    {
     "data": {
      "text/plain": [
       "[{'title': ' Grayscale’s Ethereum ETF could bleed $110M daily in first month: Kaiko ',\n",
       "  'published_at': '2024-05-28',\n",
       "  'content': 'Grayscale’s yet-to-launch spot Ether  ETH  $3,890  exchange-traded fund (ETF) could bleed an average of $110 million per day if it follows a similar pattern to its Grayscale Bitcoin Trust in the first month.\\xa0  ETH   $3,890  The Grayscale Bitcoin Trust (GBTC) converted from a closed-end fund to an ETF on Jan. 11, which saw 23% of its assets under management at launch flow out in the first month — totaling $6.5 billion, Kaiko analysts wrote in a May 27 report. ETHE has an AUM of $11 billion. If it has “a similar magnitude of outflows” as GBTC, “this would amount to $110 million of average daily outflows or 30% of ETH’s average daily volume on Coinbase,” according to Kaiko. In the past three months, Grayscale’s ETHE traded at up to a 26% discount to its net asset value (NAV). Kaiko researchers noted that once it becomes a spot ETF, it’s “reasonable to expect” outflows or redemptions as that discount narrows. GBTC’s discount to NAV — how much it traded below the value of the fund’s holdings — sharply narrowed after it converted to an ETF. It traded at up to a 17% discount before its conversion but has narrowed over time, allowing many holders to exit GBTC at either the same price they got in or better.  According to YCharts, it’s now at a 0.03% discount for May 24, a level it has hovered around since then.  ETHE’s discount has already narrowed since the Securities and Exchange Commission gave the initial nod to spot Ether ETFs on May 23, though it has yet to begin trading as a spot ETF.  Related: What comes after spot Ether ETF approvals? Execs weigh in On May 1, ETHE traded at an over 25% discount before steadily narrowing over the month amid speculation the SEC would approve spot Ether ETFs, then quickly reached a 1.28% discount on May 24, YCharts data shows. Kaiko analysts also noted that GBTC’s outflows were surpassed by inflows into other Bitcoin ETFs by the end of January. Kaiko concluded even if Ether ETF inflows “disappoint in the short term the approval has important implications for ETH as an asset, removing some of the regulatory uncertainty which has weighed on ETH’s performance over the past year.”  Magazine: Joe Lubin — The truth about ETH founders split and ‘Crypto Google’ Add reaction',\n",
       "  'summary': ' If Grayscale’s slated spot Ether ETF follows the same path as its Bitcoin one, there could be some short-term pressure on the price of ETH. ',\n",
       "  'uuid': 'ffd6a14c-9fa2-4a96-a58f-d01a221202f4',\n",
       "  'distance': 0.17404896020889282},\n",
       " {'title': ' Bitcoin dips 2% as Mt. Gox wallets move over $7B to unknown wallet ',\n",
       "  'published_at': '2024-05-28',\n",
       "  'content': 'Bitcoin  BTC  $68,460  dipped 2% on May 28 after wallets labeled as belonging to the collapsed crypto exchange Mt. Gox moved 107,547 BTC worth nearly $7.3 billion to an unknown wallet — with more transactions coming in by the hour.\\xa0  BTC   $68,460  The move is ahead of the defunct crypto exchange’s plan to return BTC holdings to creditors before October. Blockchain tracking X account Whale Alert posted the moves in May 28 X posts, noting six on-chain transactions of between 3,999 BTC and 32,499 BTC within hours. Blockchain explorer Arkham Intelligence shows the the transaction hashes from 1:41 am to 4:46 am UTC include transfers from multiple Mt. Gox cold wallets, with most moving 2,000 BTC at a time. All transactions pointed to a single unlabeled address\\xa0that holds 107,547 BTC worth nearly $7.29 billion at the time of writing. Mt. Gox trustee firm Nagashima Ohno and Tsunematsu did not immediately respond to an inquiry on where and why the Bitcoin was moved. Related: 3 tips for protecting Bitcoin profits amid Ethereum ETF mania Bitcoin dropped around 2% in the wake of the moving Mt. Gox BTC, it’s now trading at $67,875 compared to $69,374 at the time of the first transfer, according to CoinMarketCap. Last month, K33 Research analysts warned the move of Mt. Gox-era Bitcoin would “spook the market” and price-pressure the cryptocurrency. Over $9.4 billion worth of Bitcoin is owed to some of Mt. Gox’s 127,000 creditors who have waited to get it back for over ten years after the exchange collapsed in 2014 after multiple unnoticed hacks. Mt. Gox’s final repayment deadline is Oct. 31. Its trustee started contacting creditors in January to confirm their identity and exchange accounts for repayment.  Magazine: Blockchain detectives: Mt. Gox collapse saw birth of Chainalysis Update (May 28, 4:45 am UTC): This article has been updated to\\xa0include details on an additional transfer and background information. Update (May 28, 5:55 am UTC): This article has been updated to add details about an additional transfer occurring at 4:46 am UTC. Add reaction',\n",
       "  'summary': ' Billions in Bitcoin reportedly belonging to collapsed crypto exchange Mt. Gox has moved to an unknown wallet.  ',\n",
       "  'uuid': '2e140d38-0dba-4e5a-bb84-7c583c937d36',\n",
       "  'distance': 0.1913924217224121},\n",
       " {'title': ' ‘Yield-bearing stables’ are not money or stablecoins: Agora’s van Eck ',\n",
       "  'published_at': '2024-05-28',\n",
       "  'content': \"Stablecoin issuers that offer a yield-bearing element to give holders passive income are missing the point of a stablecoin’s core mission, argues Nick van Eck, CEO of stablecoin issuer firm Agora. Instead, these firms should focus on utility, liquidity and means of transaction in a way that reaches as many individuals and businesses as possible, the son of investment management maestro Jan van Eck explained in a May 27 Medium post. Yield-bearing stablecoins have offered a new dimension for decentralized finance users looking to earn interest, but van Eck says such products will likely be classed as security products in many countries and, therefore, restrict customer reach. “Not only does this deprive you of customers, it also deprives you of liquidity providers, vendors, and a higher utility ceiling. Your product is not freely tradeable,” said van Eck, adding:  Examples include Dai (DAI), Ethena's USDe and the Mountain Protocol's USDM. Yield-bearing stablecoins also lack a sufficient margin to sustain business operations, let alone pay for liquidity and expand an ecosystem, the Agora CEO added. The other main issue is that certain stablecoin issuers have formed strong ties with cryptocurrency trading firms such as Circle with Coinbase and Binance’s own BUSD — before started to wind down — which van Eck describes as a model “rife with conflict of interest.” Van Eck said Agora won’t “pick winners and losers” when it launches the Agora digital dollar (AUSD) on Ethereum next month in June. Instead, it will try to work with as many cryptocurrency exchanges, trading firms and fintech firms as possible. He described Tether's USDT  $1.00 as stablecoin 1.0, with Circle’s USD Coin (USDC)and a few issuers expanding on that with improved transparency around reserves, banking partners and regulatory compliance to form the stablecoin 2.0 era.  USDT   $1.00  Van Eck said he hopes AGORA will mark the third iteration of stablecoins focused solely on utility, liquidity and means of transaction. Related: Cardano finally gets fiat-backed stablecoin USDM after huge delays However, Agora will enter a fierce stablecoin market, led by USDT and USDC which boast market caps of $111.7 billion and $32.5 billion, respectively, according to CoinGecko. The next seven largest stablecoins have market caps above $500 million, too. However, van Eck said back in April that there’s still room for a newcomer in the $161.3 billion industry, especially one that offers an alternative model to the likes of Tether and Circle. Van Eck expects the industry to expand to $3 trillion by 2030, an impressive 70.1% compounded annual growth rate. Agora closed a $12 million funding round in April.  AUSD will be fully backed by cash, U.S. Treasury bills and overnight repo agreements, while $90-billion asset management firm VanEck — where Jan van Eck is CEO — will manage a fund for Agora’s reserves. Magazine: Unstablecoins: Depegging, bank runs and other risks loom Add reaction\",\n",
       "  'summary': ' Yield-bearing stablecoins are far more likely to be classed as security products in many countries and would restrict customer reach, argues the son of Jan van Eck.  ',\n",
       "  'uuid': '0a8fab3c-90c5-4ace-b66d-9114ba123dec',\n",
       "  'distance': 0.22387897968292236}]"
      ]
     },
     "execution_count": 17,
     "metadata": {},
     "output_type": "execute_result"
    }
   ],
   "source": [
    "bar = [{**item.properties, \"uuid\": str(item.uuid), \"distance\": item.metadata.distance} for item in response.objects]\n",
    "bar"
   ]
  },
  {
   "cell_type": "code",
   "execution_count": null,
   "metadata": {},
   "outputs": [],
   "source": [
    "foo = [[{**item.properties, \"distance\": item.metadata.distance} for item in response.objects],\n",
    " [{**item.properties, \"distance\": item.metadata.distance} for item in response.objects]]\n",
    "from utils import flatten, sort_by_distance\n",
    "bar = sort_by_distance(flatten(foo))\n",
    "bar"
   ]
  },
  {
   "cell_type": "markdown",
   "metadata": {},
   "source": [
    "# Retriever class\n",
    "\n"
   ]
  },
  {
   "cell_type": "code",
   "execution_count": 25,
   "metadata": {},
   "outputs": [
    {
     "name": "stdout",
     "output_type": "stream",
     "text": [
      "\u001b[2m2024-05-29 12:45:39\u001b[0m [\u001b[32m\u001b[1minfo     \u001b[0m] \u001b[1mSuccessfully generated queries for search.\u001b[0m \u001b[36mcls\u001b[0m=\u001b[35mrag.retriever\u001b[0m \u001b[36mnum_queries\u001b[0m=\u001b[35m3\u001b[0m\n",
      "\u001b[2m2024-05-29 12:45:41\u001b[0m [\u001b[32m\u001b[1minfo     \u001b[0m] \u001b[1mUnable to extract metadata    \u001b[0m \u001b[36mcls\u001b[0m=\u001b[35mrag.retriever\u001b[0m\n",
      "\u001b[2m2024-05-29 12:45:41\u001b[0m [\u001b[32m\u001b[1minfo     \u001b[0m] \u001b[1mSearching without date        \u001b[0m \u001b[36mcls\u001b[0m=\u001b[35mrag.retriever\u001b[0m\n",
      "\u001b[2m2024-05-29 12:45:41\u001b[0m [\u001b[32m\u001b[1minfo     \u001b[0m] \u001b[1mSearching without date        \u001b[0m \u001b[36mcls\u001b[0m=\u001b[35mrag.retriever\u001b[0m\n",
      "\u001b[2m2024-05-29 12:45:41\u001b[0m [\u001b[32m\u001b[1minfo     \u001b[0m] \u001b[1mSearching without date        \u001b[0m \u001b[36mcls\u001b[0m=\u001b[35mrag.retriever\u001b[0m\n",
      "\u001b[2m2024-05-29 12:45:41\u001b[0m [\u001b[32m\u001b[1minfo     \u001b[0m] \u001b[1mAll documents retrieved successfully.\u001b[0m \u001b[36mcls\u001b[0m=\u001b[35mrag.retriever\u001b[0m \u001b[36mnum_documents\u001b[0m=\u001b[35m3\u001b[0m\n"
     ]
    }
   ],
   "source": [
    "from rag.retriever import DataRetriever\n",
    "set_debug(False)\n",
    "user_query = \"recent developments\"\n",
    "result, hits = DataRetriever(client, user_query).retrieve_top_k(4, 1)"
   ]
  },
  {
   "cell_type": "code",
   "execution_count": 22,
   "metadata": {},
   "outputs": [
    {
     "data": {
      "text/plain": [
       "\"Recent developments in the cryptocurrency space include the argument made by Nick van Eck, CEO of Agora, that stablecoin issuers offering yield-bearing elements are missing the core mission of stablecoins. He believes that focusing on utility, liquidity, and means of transaction is more important for reaching a wider audience. Van Eck also highlighted the potential issues with yield-bearing stablecoins being classified as security products in many countries, limiting customer reach and liquidity. Agora plans to launch the Agora digital dollar (AUSD) on Ethereum next month, aiming to focus solely on utility, liquidity, and means of transaction. The stablecoin market is currently dominated by USDT and USDC, but there is still room for newcomers like Agora to offer alternative models. Van Eck expects the stablecoin industry to expand to $3 trillion by 2030. Additionally, Grayscale's upcoming spot Ether ETF could see significant outflows if it follows a similar pattern to the Grayscale Bitcoin Trust at launch.\""
      ]
     },
     "execution_count": 22,
     "metadata": {},
     "output_type": "execute_result"
    }
   ],
   "source": [
    "result"
   ]
  },
  {
   "cell_type": "code",
   "execution_count": 26,
   "metadata": {},
   "outputs": [
    {
     "data": {
      "text/plain": [
       "[{'title': ' ‘Yield-bearing stables’ are not money or stablecoins: Agora’s van Eck ',\n",
       "  'published_at': '2024-05-28',\n",
       "  'content': \"Stablecoin issuers that offer a yield-bearing element to give holders passive income are missing the point of a stablecoin’s core mission, argues Nick van Eck, CEO of stablecoin issuer firm Agora. Instead, these firms should focus on utility, liquidity and means of transaction in a way that reaches as many individuals and businesses as possible, the son of investment management maestro Jan van Eck explained in a May 27 Medium post. Yield-bearing stablecoins have offered a new dimension for decentralized finance users looking to earn interest, but van Eck says such products will likely be classed as security products in many countries and, therefore, restrict customer reach. “Not only does this deprive you of customers, it also deprives you of liquidity providers, vendors, and a higher utility ceiling. Your product is not freely tradeable,” said van Eck, adding:  Examples include Dai (DAI), Ethena's USDe and the Mountain Protocol's USDM. Yield-bearing stablecoins also lack a sufficient margin to sustain business operations, let alone pay for liquidity and expand an ecosystem, the Agora CEO added. The other main issue is that certain stablecoin issuers have formed strong ties with cryptocurrency trading firms such as Circle with Coinbase and Binance’s own BUSD — before started to wind down — which van Eck describes as a model “rife with conflict of interest.” Van Eck said Agora won’t “pick winners and losers” when it launches the Agora digital dollar (AUSD) on Ethereum next month in June. Instead, it will try to work with as many cryptocurrency exchanges, trading firms and fintech firms as possible. He described Tether's USDT  $1.00 as stablecoin 1.0, with Circle’s USD Coin (USDC)and a few issuers expanding on that with improved transparency around reserves, banking partners and regulatory compliance to form the stablecoin 2.0 era.  USDT   $1.00  Van Eck said he hopes AGORA will mark the third iteration of stablecoins focused solely on utility, liquidity and means of transaction. Related: Cardano finally gets fiat-backed stablecoin USDM after huge delays However, Agora will enter a fierce stablecoin market, led by USDT and USDC which boast market caps of $111.7 billion and $32.5 billion, respectively, according to CoinGecko. The next seven largest stablecoins have market caps above $500 million, too. However, van Eck said back in April that there’s still room for a newcomer in the $161.3 billion industry, especially one that offers an alternative model to the likes of Tether and Circle. Van Eck expects the industry to expand to $3 trillion by 2030, an impressive 70.1% compounded annual growth rate. Agora closed a $12 million funding round in April.  AUSD will be fully backed by cash, U.S. Treasury bills and overnight repo agreements, while $90-billion asset management firm VanEck — where Jan van Eck is CEO — will manage a fund for Agora’s reserves. Magazine: Unstablecoins: Depegging, bank runs and other risks loom Add reaction\",\n",
       "  'summary': ' Yield-bearing stablecoins are far more likely to be classed as security products in many countries and would restrict customer reach, argues the son of Jan van Eck.  ',\n",
       "  'uuid': '0a8fab3c-90c5-4ace-b66d-9114ba123dec',\n",
       "  'distance': 0.27210283279418945},\n",
       " {'content': 'Bitcoin  BTC  $68,460  dipped 2% on May 28 after wallets labeled as belonging to the collapsed crypto exchange Mt. Gox moved 107,547 BTC worth nearly $7.3 billion to an unknown wallet — with more transactions coming in by the hour.\\xa0  BTC   $68,460  The move is ahead of the defunct crypto exchange’s plan to return BTC holdings to creditors before October. Blockchain tracking X account Whale Alert posted the moves in May 28 X posts, noting six on-chain transactions of between 3,999 BTC and 32,499 BTC within hours. Blockchain explorer Arkham Intelligence shows the the transaction hashes from 1:41 am to 4:46 am UTC include transfers from multiple Mt. Gox cold wallets, with most moving 2,000 BTC at a time. All transactions pointed to a single unlabeled address\\xa0that holds 107,547 BTC worth nearly $7.29 billion at the time of writing. Mt. Gox trustee firm Nagashima Ohno and Tsunematsu did not immediately respond to an inquiry on where and why the Bitcoin was moved. Related: 3 tips for protecting Bitcoin profits amid Ethereum ETF mania Bitcoin dropped around 2% in the wake of the moving Mt. Gox BTC, it’s now trading at $67,875 compared to $69,374 at the time of the first transfer, according to CoinMarketCap. Last month, K33 Research analysts warned the move of Mt. Gox-era Bitcoin would “spook the market” and price-pressure the cryptocurrency. Over $9.4 billion worth of Bitcoin is owed to some of Mt. Gox’s 127,000 creditors who have waited to get it back for over ten years after the exchange collapsed in 2014 after multiple unnoticed hacks. Mt. Gox’s final repayment deadline is Oct. 31. Its trustee started contacting creditors in January to confirm their identity and exchange accounts for repayment.  Magazine: Blockchain detectives: Mt. Gox collapse saw birth of Chainalysis Update (May 28, 4:45 am UTC): This article has been updated to\\xa0include details on an additional transfer and background information. Update (May 28, 5:55 am UTC): This article has been updated to add details about an additional transfer occurring at 4:46 am UTC. Add reaction',\n",
       "  'published_at': '2024-05-28',\n",
       "  'title': ' Bitcoin dips 2% as Mt. Gox wallets move over $7B to unknown wallet ',\n",
       "  'summary': ' Billions in Bitcoin reportedly belonging to collapsed crypto exchange Mt. Gox has moved to an unknown wallet.  ',\n",
       "  'uuid': '2e140d38-0dba-4e5a-bb84-7c583c937d36',\n",
       "  'distance': 0.28406858444213867},\n",
       " {'title': ' Grayscale’s Ethereum ETF could bleed $110M daily in first month: Kaiko ',\n",
       "  'published_at': '2024-05-28',\n",
       "  'content': 'Grayscale’s yet-to-launch spot Ether  ETH  $3,890  exchange-traded fund (ETF) could bleed an average of $110 million per day if it follows a similar pattern to its Grayscale Bitcoin Trust in the first month.\\xa0  ETH   $3,890  The Grayscale Bitcoin Trust (GBTC) converted from a closed-end fund to an ETF on Jan. 11, which saw 23% of its assets under management at launch flow out in the first month — totaling $6.5 billion, Kaiko analysts wrote in a May 27 report. ETHE has an AUM of $11 billion. If it has “a similar magnitude of outflows” as GBTC, “this would amount to $110 million of average daily outflows or 30% of ETH’s average daily volume on Coinbase,” according to Kaiko. In the past three months, Grayscale’s ETHE traded at up to a 26% discount to its net asset value (NAV). Kaiko researchers noted that once it becomes a spot ETF, it’s “reasonable to expect” outflows or redemptions as that discount narrows. GBTC’s discount to NAV — how much it traded below the value of the fund’s holdings — sharply narrowed after it converted to an ETF. It traded at up to a 17% discount before its conversion but has narrowed over time, allowing many holders to exit GBTC at either the same price they got in or better.  According to YCharts, it’s now at a 0.03% discount for May 24, a level it has hovered around since then.  ETHE’s discount has already narrowed since the Securities and Exchange Commission gave the initial nod to spot Ether ETFs on May 23, though it has yet to begin trading as a spot ETF.  Related: What comes after spot Ether ETF approvals? Execs weigh in On May 1, ETHE traded at an over 25% discount before steadily narrowing over the month amid speculation the SEC would approve spot Ether ETFs, then quickly reached a 1.28% discount on May 24, YCharts data shows. Kaiko analysts also noted that GBTC’s outflows were surpassed by inflows into other Bitcoin ETFs by the end of January. Kaiko concluded even if Ether ETF inflows “disappoint in the short term the approval has important implications for ETH as an asset, removing some of the regulatory uncertainty which has weighed on ETH’s performance over the past year.”  Magazine: Joe Lubin — The truth about ETH founders split and ‘Crypto Google’ Add reaction',\n",
       "  'summary': ' If Grayscale’s slated spot Ether ETF follows the same path as its Bitcoin one, there could be some short-term pressure on the price of ETH. ',\n",
       "  'uuid': 'ffd6a14c-9fa2-4a96-a58f-d01a221202f4',\n",
       "  'distance': 0.2913880944252014}]"
      ]
     },
     "execution_count": 26,
     "metadata": {},
     "output_type": "execute_result"
    }
   ],
   "source": [
    "hits"
   ]
  }
 ],
 "metadata": {
  "kernelspec": {
   "display_name": "rag-system-_6t_t_f9-py3.10",
   "language": "python",
   "name": "python3"
  },
  "language_info": {
   "codemirror_mode": {
    "name": "ipython",
    "version": 3
   },
   "file_extension": ".py",
   "mimetype": "text/x-python",
   "name": "python",
   "nbconvert_exporter": "python",
   "pygments_lexer": "ipython3",
   "version": "3.10.4"
  }
 },
 "nbformat": 4,
 "nbformat_minor": 2
}
