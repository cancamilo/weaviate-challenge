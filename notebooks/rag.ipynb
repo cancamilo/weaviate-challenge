{
 "cells": [
  {
   "cell_type": "markdown",
   "metadata": {},
   "source": [
    "# RAG demo"
   ]
  },
  {
   "cell_type": "code",
   "execution_count": 2,
   "metadata": {},
   "outputs": [],
   "source": [
    "%load_ext autoreload\n",
    "%autoreload 2\n",
    "\n",
    "import os\n",
    "import sys\n",
    "import pandas as pd\n",
    "\n",
    "# Do this to enable importing modules\n",
    "src_path = os.path.join(os.path.abspath(\"\"), \"..\")\n",
    "sys.path.insert(0, src_path)\n",
    "\n",
    "from dotenv import load_dotenv, find_dotenv\n",
    "load_dotenv(find_dotenv()) # read local .env file\n",
    "import weaviate\n",
    "import weaviate.classes as wvc\n",
    "import os\n",
    "import requests\n",
    "import json\n",
    "from llm_components.prompt_templates import QueryMetadata\n",
    "from langchain_core.utils.function_calling import convert_to_openai_function\n",
    "from langchain_core.prompts import PromptTemplate, ChatPromptTemplate\n",
    "from langchain.globals import set_debug\n",
    "from langchain.output_parsers.openai_functions import JsonOutputFunctionsParser\n",
    "from datetime import datetime\n",
    "from langchain_openai import ChatOpenAI\n",
    "from rag.query_expansion import QueryExpansion\n",
    "from rag.query_meta_extractor import QueryMetaExtractor"
   ]
  },
  {
   "cell_type": "markdown",
   "metadata": {},
   "source": [
    "## 1. Query metadata extraction\n",
    "\n",
    "Given an user query, extract the metadata using OpenAI function calling."
   ]
  },
  {
   "cell_type": "code",
   "execution_count": 8,
   "metadata": {},
   "outputs": [],
   "source": [
    "openai_functions = [convert_to_openai_function(QueryMetadata)]\n",
    "set_debug(False)\n",
    "current_date = datetime.now().strftime(format=\"%Y-%m-%d\")\n",
    "\n",
    "template = ChatPromptTemplate.from_messages([\n",
    "    (\"system\", \"Today´s date is {current_date}.\"),\n",
    "    (\"human\", \"{user_query}\"),\n",
    "])\n",
    "\n",
    "model = ChatOpenAI(temperature=0)\n",
    "parser = JsonOutputFunctionsParser()\n",
    "chain = template | model.bind(functions=openai_functions) | parser\n",
    "\n",
    "query = \"What is the price of btc today?\"\n",
    "filter_result = chain.invoke({\"current_date\":current_date,  \"user_query\": query})"
   ]
  },
  {
   "cell_type": "markdown",
   "metadata": {},
   "source": [
    "## 2. Query Augmentation\n",
    "\n",
    "Generating different queries can be beneficial to extend the search space of the initial query and find more relevant results."
   ]
  },
  {
   "cell_type": "code",
   "execution_count": 5,
   "metadata": {},
   "outputs": [
    {
     "data": {
      "text/plain": [
       "['1. What are the latest updates in regulations?',\n",
       " '2. How can I stay informed about regulatory changes?',\n",
       " '3. Are there any recent developments in regulatory policies?',\n",
       " '4. What regulatory announcements have been made recently?',\n",
       " '5. Where can I find the most up-to-date regulatory news?']"
      ]
     },
     "execution_count": 5,
     "metadata": {},
     "output_type": "execute_result"
    }
   ],
   "source": [
    "user_query = \"Regulatory news\"\n",
    "generated_queries = QueryExpansion().generate_response(user_query, to_expand_to_n=5)\n",
    "generated_queries"
   ]
  },
  {
   "cell_type": "markdown",
   "metadata": {},
   "source": [
    "The new queries generated above can be used to extend the search results. "
   ]
  },
  {
   "cell_type": "markdown",
   "metadata": {},
   "source": [
    "## 3. Filter + Vector Search with Weaviate"
   ]
  },
  {
   "cell_type": "code",
   "execution_count": 12,
   "metadata": {},
   "outputs": [],
   "source": [
    "from weaviate.classes.query import Filter, MetadataQuery\n",
    "\n",
    "weaviate_client = weaviate.connect_to_wcs(\n",
    "    cluster_url=os.getenv(\"WCS_CLUSTER_URL\"),\n",
    "    skip_init_checks=True,\n",
    "    auth_credentials=weaviate.auth.AuthApiKey(os.getenv(\"WCS_API_KEY\")),\n",
    "    headers={\n",
    "        \"X-OpenAI-Api-Key\": os.environ[\"OPENAI_API_KEY\"]\n",
    "    }\n",
    ")\n",
    "\n",
    "def query_vectordb(generated_query, date, k=5):        \n",
    "    articles = weaviate_client.collections.get(\"Articles\")\n",
    "    response = None\n",
    "\n",
    "    try:\n",
    "        if date != \"\":\n",
    "            response = articles.query.near_text(\n",
    "                query=generated_query,\n",
    "                limit=k,\n",
    "                filters=Filter.by_property(\"published_at\").equal(date),\n",
    "                return_metadata=MetadataQuery(distance=True)\n",
    "            )\n",
    "        else:\n",
    "            \n",
    "            response = articles.query.near_text(\n",
    "                query=generated_query,\n",
    "                limit=k,\n",
    "                return_metadata=MetadataQuery(distance=True)\n",
    "            )\n",
    "    except Exception as e:\n",
    "        weaviate_client.close()\n",
    "        print(\"Unable to search\", e)\n",
    "\n",
    "    return [{**item.properties, \"uuid\": str(item.uuid), \"distance\": item.metadata.distance} for item in response.objects]"
   ]
  },
  {
   "cell_type": "code",
   "execution_count": 13,
   "metadata": {},
   "outputs": [],
   "source": [
    "results = []\n",
    "for query in generated_queries:\n",
    "    results += query_vectordb(query, date=\"\", k=5)"
   ]
  },
  {
   "cell_type": "code",
   "execution_count": 18,
   "metadata": {},
   "outputs": [
    {
     "data": {
      "text/plain": [
       "{'title': ' Spot Ether ETFs are now officially legal in the US: Law Decoded  ',\n",
       " 'published_at': '2024-05-27',\n",
       " 'content': 'In a second landmark decision this year, the United States Securities and Exchange Commission has\\xa0given the regulatory green light to spot Ether exchange-traded funds (ETFs) in the country. The SEC approved the 19b-4 filings from VanEck, BlackRock, Fidelity, Grayscale, Franklin Templeton, ARK 21Shares, Invesco Galaxy and Bitwise, approving the rule changes allowing spot Ether  ETH  $3,890  ETFs to be listed and traded on their respective exchanges.  ETH   $3,890  Unlike the spot Bitcoin  BTC  $68,460  ETFs approved via voting by a five-member committee including SEC Chair Gary Gensler, spot Ether ETFs were approved by the SEC’s Trading and Markets Division.  BTC   $68,460  Another major difference between the approval processes of the two crypto ETFs is that all 10 BTC ETFs started trading the day after their approval, as they also got S-1 form clearance. Spot Ether ETFs might be weeks or months away from debuting on exchanges, as the ETF filers have yet to receive their S-1 SEC registration. Hong Kong’s Office of the Privacy Commissioner for Personal Data (PCPD) has concluded its inquiry into the Worldcoin project, determining that its operations in Hong Kong violated its Personal Data (Privacy) Ordinance. Privacy Commissioner Ada Chung Lai-ling issued an enforcement notice to Worldcoin, ordering the immediate halt of all project operations in Hong Kong that involve scanning and collecting irises and facial images of the public using iris scanning devices. According to the PCPD, collecting face images was unnecessary for verifying the humanness of participants, as the iris scanning device operators were already capable of performing this verification in person at the operating locations, making the scanning or collection of face images an unnecessary step. Continue reading Binance.US has scored a victory in its appeal of the suspension of its money-services business license in Florida. The Florida First District Court of Appeal found the emergency suspension order issued by the state Office of Financial Regulation (OFR) lacked legal justification. The suspension of the Binance.US Florida license came in response to Binance CEO Changpeng Zhao’s guilty plea in federal court on Nov. 21, 2023, to violating U.S. Anti-Money Laundering law. The appeals court cited state law that determined the OFR “may” suspend a money-services business license “by any procedure that is fair under the circumstances” if the agency provides reasons to show the decision is fair. Further, the agency did not discuss less harsh alternatives to suspension.   Continue reading The CBDC Anti-Surveillance State Act passed the U.S. House of Representatives in a largely partisan vote. The bill, which must still face a vote in the Senate, amends the Federal Reserve Act of 1913 to prohibit Federal Reserve banks “from offering certain products or services directly to an individual, to prohibit the use of central bank digital currency for monetary policy, and for other purposes.” The Republican-backed bill’s debate was sparsely attended. Republican supporters spoke about the potential abuse of a central bank digital currency (CBDC), while Democrats concentrated on innovation, the dollar’s international competitiveness and the bill’s allegedly poor drafting. Representative Brad Sherman called the bill a “word salad” that favored “crypto bros.” Continue reading Add reaction',\n",
       " 'summary': ' Spot Ether ETFs might be weeks or months away from debuting on exchanges, as the ETF filers have yet to receive their S-1 SEC registration. ',\n",
       " 'uuid': '4cc1e259-503a-4996-8e1d-2b7584b6fdfe',\n",
       " 'distance': 0.2249382734298706}"
      ]
     },
     "execution_count": 18,
     "metadata": {},
     "output_type": "execute_result"
    }
   ],
   "source": [
    "import utils\n",
    "hits = utils.remove_duplicates(results)\n",
    "hits = utils.sort_by_distance(hits)\n",
    "hits = hits[:5]\n",
    "hits[0]"
   ]
  },
  {
   "cell_type": "markdown",
   "metadata": {},
   "source": [
    "## 4. Answer with context "
   ]
  },
  {
   "cell_type": "code",
   "execution_count": null,
   "metadata": {},
   "outputs": [],
   "source": [
    "from rag.qa_context import QAContext\n",
    "context = \"/n\".join([hit[\"content\"] for hit in hits])\n",
    "\n",
    "# Use the original query and provide the results of our search process.\n",
    "result = QAContext().rag_query(user_query, context)\n",
    "print(\"Answer\", result)\n",
    "print(\"Contex: \\n\", hits)"
   ]
  }
 ],
 "metadata": {
  "kernelspec": {
   "display_name": "rag-system-_6t_t_f9-py3.10",
   "language": "python",
   "name": "python3"
  },
  "language_info": {
   "codemirror_mode": {
    "name": "ipython",
    "version": 3
   },
   "file_extension": ".py",
   "mimetype": "text/x-python",
   "name": "python",
   "nbconvert_exporter": "python",
   "pygments_lexer": "ipython3",
   "version": "3.10.4"
  }
 },
 "nbformat": 4,
 "nbformat_minor": 2
}
