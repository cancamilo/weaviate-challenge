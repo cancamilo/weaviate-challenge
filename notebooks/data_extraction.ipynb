{
 "cells": [
  {
   "cell_type": "markdown",
   "metadata": {},
   "source": [
    "# Weaviate crypto news processor"
   ]
  },
  {
   "cell_type": "code",
   "execution_count": 1,
   "metadata": {},
   "outputs": [
    {
     "data": {
      "text/plain": [
       "True"
      ]
     },
     "execution_count": 1,
     "metadata": {},
     "output_type": "execute_result"
    }
   ],
   "source": [
    "%load_ext autoreload\n",
    "%autoreload 2\n",
    "\n",
    "import os\n",
    "import sys\n",
    "import pandas as pd\n",
    "\n",
    "# Do this to enable importing modules\n",
    "src_path = os.path.join(os.path.abspath(\"\"), \"..\")\n",
    "sys.path.insert(0, src_path)\n",
    "\n",
    "from dotenv import load_dotenv, find_dotenv\n",
    "load_dotenv(find_dotenv()) # read local .env file\n"
   ]
  },
  {
   "cell_type": "markdown",
   "metadata": {},
   "source": [
    "## Data crawling"
   ]
  },
  {
   "cell_type": "code",
   "execution_count": 18,
   "metadata": {},
   "outputs": [
    {
     "name": "stderr",
     "output_type": "stream",
     "text": [
      "INFO:crawlers.coin_telegraph:Scraping articles from: https://cointelegraph.com/\n"
     ]
    }
   ],
   "source": [
    "from datetime import datetime, timedelta\n",
    "from crawlers import CoinTelegraphCrawler\n",
    "\n",
    "\n",
    "date_format=\"%Y-%m-%d\"\n",
    "coin_crawler = CoinTelegraphCrawler()\n",
    "start_dt = datetime.now() - timedelta(days=200)\n",
    "end_dt = datetime.now()\n",
    "ct_articles = coin_crawler.extract(n_scrolls=50, start_date=start_dt.strftime(date_format), end_date=end_dt.strftime(date_format))"
   ]
  },
  {
   "cell_type": "code",
   "execution_count": 19,
   "metadata": {},
   "outputs": [],
   "source": [
    "df = pd.DataFrame.from_records([article.model_dump() for article in ct_articles])\n",
    "df.to_csv(\"../data/articles.csv\", index=False)"
   ]
  },
  {
   "cell_type": "markdown",
   "metadata": {},
   "source": [
    "## Data Augmentation"
   ]
  },
  {
   "cell_type": "code",
   "execution_count": 2,
   "metadata": {},
   "outputs": [
    {
     "data": {
      "text/html": [
       "<div>\n",
       "<style scoped>\n",
       "    .dataframe tbody tr th:only-of-type {\n",
       "        vertical-align: middle;\n",
       "    }\n",
       "\n",
       "    .dataframe tbody tr th {\n",
       "        vertical-align: top;\n",
       "    }\n",
       "\n",
       "    .dataframe thead th {\n",
       "        text-align: right;\n",
       "    }\n",
       "</style>\n",
       "<table border=\"1\" class=\"dataframe\">\n",
       "  <thead>\n",
       "    <tr style=\"text-align: right;\">\n",
       "      <th></th>\n",
       "      <th>source</th>\n",
       "      <th>title</th>\n",
       "      <th>content</th>\n",
       "      <th>summary</th>\n",
       "      <th>published_at</th>\n",
       "    </tr>\n",
       "  </thead>\n",
       "  <tbody>\n",
       "    <tr>\n",
       "      <th>0</th>\n",
       "      <td>coin_telepraph</td>\n",
       "      <td>Bitcoin dips 2% as Mt. Gox wallets move over ...</td>\n",
       "      <td>Bitcoin  BTC  $68,460  dipped 2% on May 28 aft...</td>\n",
       "      <td>Billions in Bitcoin reportedly belonging to c...</td>\n",
       "      <td>2024-05-28</td>\n",
       "    </tr>\n",
       "    <tr>\n",
       "      <th>1</th>\n",
       "      <td>coin_telepraph</td>\n",
       "      <td>Grayscale’s Ethereum ETF could bleed $110M da...</td>\n",
       "      <td>Grayscale’s yet-to-launch spot Ether  ETH  $3,...</td>\n",
       "      <td>If Grayscale’s slated spot Ether ETF follows ...</td>\n",
       "      <td>2024-05-28</td>\n",
       "    </tr>\n",
       "    <tr>\n",
       "      <th>2</th>\n",
       "      <td>coin_telepraph</td>\n",
       "      <td>Empowering equality: How Web3 and AI technolo...</td>\n",
       "      <td>Carrying digital content on blockchain, REVOX...</td>\n",
       "      <td>Integrating blockchain and AI revolutionizes ...</td>\n",
       "      <td>2024-05-27</td>\n",
       "    </tr>\n",
       "  </tbody>\n",
       "</table>\n",
       "</div>"
      ],
      "text/plain": [
       "           source                                              title  \\\n",
       "0  coin_telepraph   Bitcoin dips 2% as Mt. Gox wallets move over ...   \n",
       "1  coin_telepraph   Grayscale’s Ethereum ETF could bleed $110M da...   \n",
       "2  coin_telepraph   Empowering equality: How Web3 and AI technolo...   \n",
       "\n",
       "                                             content  \\\n",
       "0  Bitcoin  BTC  $68,460  dipped 2% on May 28 aft...   \n",
       "1  Grayscale’s yet-to-launch spot Ether  ETH  $3,...   \n",
       "2   Carrying digital content on blockchain, REVOX...   \n",
       "\n",
       "                                             summary published_at  \n",
       "0   Billions in Bitcoin reportedly belonging to c...   2024-05-28  \n",
       "1   If Grayscale’s slated spot Ether ETF follows ...   2024-05-28  \n",
       "2   Integrating blockchain and AI revolutionizes ...   2024-05-27  "
      ]
     },
     "execution_count": 2,
     "metadata": {},
     "output_type": "execute_result"
    }
   ],
   "source": [
    "df = pd.read_csv(\"../data/articles.csv\")\n",
    "df.head(3)"
   ]
  },
  {
   "cell_type": "code",
   "execution_count": null,
   "metadata": {},
   "outputs": [],
   "source": [
    "# Use this cell if you want to extract entities from the dataset above\n",
    "\n",
    "# from data_augmentation.data_formatter import DataFormatter\n",
    "# from data_augmentation.openai_handler import OpenAIHandler\n",
    "\n",
    "# response = []\n",
    "# batch_size = 1\n",
    "# for i in range(0, len(df), batch_size):\n",
    "#     batch = df.iloc[i : i + batch_size][\"content\"].to_list()\n",
    "#     initial_prompt = DataFormatter.format_prompt(batch, i)\n",
    "#     response += OpenAIHandler().request(initial_prompt)"
   ]
  },
  {
   "cell_type": "code",
   "execution_count": 14,
   "metadata": {},
   "outputs": [],
   "source": [
    "# Use this cell to chunk the articles\n",
    "\n",
    "# from data_handlers.chunk_handler import ChunkingHandler\n",
    "\n",
    "# total_chunk_list = []\n",
    "# for index, item in df.iterrows():\n",
    "#     total_chunk_list += ChunkingHandler.handle_article(index, item)\n"
   ]
  },
  {
   "cell_type": "markdown",
   "metadata": {},
   "source": [
    "## Weaviate initialization"
   ]
  },
  {
   "cell_type": "code",
   "execution_count": 4,
   "metadata": {},
   "outputs": [
    {
     "name": "stderr",
     "output_type": "stream",
     "text": [
      "/var/folders/w2/1nyptw5136b9mqhj4dvgdky00000gn/T/ipykernel_42840/216399296.py:15: ResourceWarning: unclosed <ssl.SSLSocket fd=74, family=AddressFamily.AF_INET, type=SocketKind.SOCK_STREAM, proto=0, laddr=('192.168.0.14', 54130), raddr=('34.149.137.116', 443)>\n",
      "  client = weaviate.connect_to_wcs(\n",
      "ResourceWarning: Enable tracemalloc to get the object allocation traceback\n"
     ]
    }
   ],
   "source": [
    "import weaviate\n",
    "import weaviate.classes as wvc\n",
    "import os\n",
    "import requests\n",
    "import json\n",
    "\n",
    "client = weaviate.connect_to_wcs(\n",
    "    cluster_url=\"news-db-h6x724lk.weaviate.network\",\n",
    "    skip_init_checks=True,\n",
    "    auth_credentials=weaviate.auth.AuthApiKey(os.getenv(\"WCS_API_KEY\")),\n",
    "    headers={\n",
    "        \"X-OpenAI-Api-Key\": os.environ[\"OPENAI_API_KEY\"]\n",
    "    }\n",
    ")\n",
    "\n",
    "# client.close()"
   ]
  },
  {
   "cell_type": "code",
   "execution_count": 5,
   "metadata": {},
   "outputs": [],
   "source": [
    "if client.collections.exists(\"Articles\"):\n",
    "    client.collections.delete(\"Articles\")  # Replace with your collection name\n",
    "\n",
    "Articles = client.collections.create(\n",
    "    name=\"Articles\",\n",
    "    vectorizer_config=wvc.config.Configure.Vectorizer.text2vec_openai(),  \n",
    "    generative_config=wvc.config.Configure.Generative.openai()\n",
    ")"
   ]
  },
  {
   "cell_type": "code",
   "execution_count": 6,
   "metadata": {},
   "outputs": [
    {
     "data": {
      "text/plain": [
       "BatchObjectReturn(all_responses=[UUID('2e140d38-0dba-4e5a-bb84-7c583c937d36'), UUID('ffd6a14c-9fa2-4a96-a58f-d01a221202f4'), UUID('96ffd763-2708-4234-8eb4-621f318de589'), UUID('0a8fab3c-90c5-4ace-b66d-9114ba123dec'), UUID('06356092-1fef-4a47-a435-1e59bcefa14c'), UUID('4f102e85-1d56-4a81-a7ef-4bfdbde6d8aa'), UUID('d181eebf-cfc9-429c-88c0-ab3fba57452a'), UUID('a532fe5c-6544-4e6d-83fa-825a9e29b310'), UUID('4cc1e259-503a-4996-8e1d-2b7584b6fdfe'), UUID('91487036-a498-485e-99be-4c5e988dbf1e'), UUID('9ccbd47d-96ec-455a-b3c9-3867fa19e418'), UUID('ecb0a2ec-3b6a-4337-baa4-056a427d65fc'), UUID('98b24246-47d9-4c43-bb80-3c11b912b0ac'), UUID('33c29af1-f473-47bb-a89b-65b767abc980'), UUID('12d63fe6-b95f-4fea-aaf1-a03587c6cbf6'), UUID('53e98413-db90-4d19-a9b1-5c92dfeb87b5'), UUID('e4321aac-be82-4d56-a477-616defc5be0d'), UUID('6aa78d5b-bcd6-4855-ac91-226c39d844f3'), UUID('d0a7f150-9b3f-4bf5-a927-6c45c120bda1'), UUID('74d49d40-5010-4a72-8233-938968ce90dc'), UUID('d08ab393-fe09-4c44-ab28-1aa768fc26fe')], elapsed_seconds=52.241451025009155, errors={}, uuids={0: UUID('2e140d38-0dba-4e5a-bb84-7c583c937d36'), 1: UUID('ffd6a14c-9fa2-4a96-a58f-d01a221202f4'), 2: UUID('96ffd763-2708-4234-8eb4-621f318de589'), 3: UUID('0a8fab3c-90c5-4ace-b66d-9114ba123dec'), 4: UUID('06356092-1fef-4a47-a435-1e59bcefa14c'), 5: UUID('4f102e85-1d56-4a81-a7ef-4bfdbde6d8aa'), 6: UUID('d181eebf-cfc9-429c-88c0-ab3fba57452a'), 7: UUID('a532fe5c-6544-4e6d-83fa-825a9e29b310'), 8: UUID('4cc1e259-503a-4996-8e1d-2b7584b6fdfe'), 9: UUID('91487036-a498-485e-99be-4c5e988dbf1e'), 10: UUID('9ccbd47d-96ec-455a-b3c9-3867fa19e418'), 11: UUID('ecb0a2ec-3b6a-4337-baa4-056a427d65fc'), 12: UUID('98b24246-47d9-4c43-bb80-3c11b912b0ac'), 13: UUID('33c29af1-f473-47bb-a89b-65b767abc980'), 14: UUID('12d63fe6-b95f-4fea-aaf1-a03587c6cbf6'), 15: UUID('53e98413-db90-4d19-a9b1-5c92dfeb87b5'), 16: UUID('e4321aac-be82-4d56-a477-616defc5be0d'), 17: UUID('6aa78d5b-bcd6-4855-ac91-226c39d844f3'), 18: UUID('d0a7f150-9b3f-4bf5-a927-6c45c120bda1'), 19: UUID('74d49d40-5010-4a72-8233-938968ce90dc'), 20: UUID('d08ab393-fe09-4c44-ab28-1aa768fc26fe')}, has_errors=False)"
      ]
     },
     "execution_count": 6,
     "metadata": {},
     "output_type": "execute_result"
    }
   ],
   "source": [
    "articles_objs = list()\n",
    "for i, d in df.iterrows():\n",
    "    articles_objs.append({\n",
    "        \"title\": d[\"title\"],\n",
    "        \"summary\": d[\"summary\"],\n",
    "        \"content\": d[\"content\"],\n",
    "        \"published_at\": d[\"published_at\"]\n",
    "    })\n",
    "\n",
    "articles = client.collections.get(\"Articles\")\n",
    "articles.data.insert_many(articles_objs)"
   ]
  },
  {
   "cell_type": "markdown",
   "metadata": {},
   "source": [
    "## Semantic search"
   ]
  },
  {
   "cell_type": "code",
   "execution_count": 32,
   "metadata": {},
   "outputs": [
    {
     "name": "stdout",
     "output_type": "stream",
     "text": [
      "{'title': ' Spot Ether ETFs are now officially legal in the US: Law Decoded  ', 'content': 'In a second landmark decision this year, the United States Securities and Exchange Commission has\\xa0given the regulatory green light to spot Ether exchange-traded funds (ETFs) in the country. The SEC approved the 19b-4 filings from VanEck, BlackRock, Fidelity, Grayscale, Franklin Templeton, ARK 21Shares, Invesco Galaxy and Bitwise, approving the rule changes allowing spot Ether  ETH  $3,890  ETFs to be listed and traded on their respective exchanges.  ETH   $3,890  Unlike the spot Bitcoin  BTC  $68,460  ETFs approved via voting by a five-member committee including SEC Chair Gary Gensler, spot Ether ETFs were approved by the SEC’s Trading and Markets Division.  BTC   $68,460  Another major difference between the approval processes of the two crypto ETFs is that all 10 BTC ETFs started trading the day after their approval, as they also got S-1 form clearance. Spot Ether ETFs might be weeks or months away from debuting on exchanges, as the ETF filers have yet to receive their S-1 SEC registration. Hong Kong’s Office of the Privacy Commissioner for Personal Data (PCPD) has concluded its inquiry into the Worldcoin project, determining that its operations in Hong Kong violated its Personal Data (Privacy) Ordinance. Privacy Commissioner Ada Chung Lai-ling issued an enforcement notice to Worldcoin, ordering the immediate halt of all project operations in Hong Kong that involve scanning and collecting irises and facial images of the public using iris scanning devices. According to the PCPD, collecting face images was unnecessary for verifying the humanness of participants, as the iris scanning device operators were already capable of performing this verification in person at the operating locations, making the scanning or collection of face images an unnecessary step. Continue reading Binance.US has scored a victory in its appeal of the suspension of its money-services business license in Florida. The Florida First District Court of Appeal found the emergency suspension order issued by the state Office of Financial Regulation (OFR) lacked legal justification. The suspension of the Binance.US Florida license came in response to Binance CEO Changpeng Zhao’s guilty plea in federal court on Nov. 21, 2023, to violating U.S. Anti-Money Laundering law. The appeals court cited state law that determined the OFR “may” suspend a money-services business license “by any procedure that is fair under the circumstances” if the agency provides reasons to show the decision is fair. Further, the agency did not discuss less harsh alternatives to suspension.   Continue reading The CBDC Anti-Surveillance State Act passed the U.S. House of Representatives in a largely partisan vote. The bill, which must still face a vote in the Senate, amends the Federal Reserve Act of 1913 to prohibit Federal Reserve banks “from offering certain products or services directly to an individual, to prohibit the use of central bank digital currency for monetary policy, and for other purposes.” The Republican-backed bill’s debate was sparsely attended. Republican supporters spoke about the potential abuse of a central bank digital currency (CBDC), while Democrats concentrated on innovation, the dollar’s international competitiveness and the bill’s allegedly poor drafting. Representative Brad Sherman called the bill a “word salad” that favored “crypto bros.” Continue reading Add reaction', 'summary': ' Spot Ether ETFs might be weeks or months away from debuting on exchanges, as the ETF filers have yet to receive their S-1 SEC registration. '}\n"
     ]
    }
   ],
   "source": [
    "articles = client.collections.get(\"Articles\")\n",
    "\n",
    "user_query = \"News about the bitcoin ETFs\" \n",
    "\n",
    "response = articles.query.near_text(\n",
    "    query=\"etfs\",\n",
    "    limit=5\n",
    ")\n",
    "\n",
    "print(response.objects[0].properties)  # Inspect the first object"
   ]
  },
  {
   "cell_type": "code",
   "execution_count": 42,
   "metadata": {},
   "outputs": [
    {
     "name": "stdout",
     "output_type": "stream",
     "text": [
      "7\n"
     ]
    }
   ],
   "source": [
    "response = articles.generate.near_text(\n",
    "    query=\"banks\",\n",
    "    limit=5,\n",
    "    single_prompt=\"Classify the sentiment of the text {content} from 0 to 10. Give your answer as a single number and do not include any text with it\"\n",
    ")\n",
    "\n",
    "print(response.objects[0].generated)  # Inspect the generated text"
   ]
  },
  {
   "cell_type": "code",
   "execution_count": 43,
   "metadata": {},
   "outputs": [
    {
     "name": "stdout",
     "output_type": "stream",
     "text": [
      "7\n",
      "5\n",
      "7\n",
      "7\n",
      "5\n"
     ]
    }
   ],
   "source": [
    "for item in response.objects:\n",
    "    print(item.generated)"
   ]
  },
  {
   "cell_type": "code",
   "execution_count": 15,
   "metadata": {},
   "outputs": [],
   "source": [
    "# client.close()  # Close client gracefully"
   ]
  }
 ],
 "metadata": {
  "kernelspec": {
   "display_name": "rag-system-_6t_t_f9-py3.10",
   "language": "python",
   "name": "python3"
  },
  "language_info": {
   "codemirror_mode": {
    "name": "ipython",
    "version": 3
   },
   "file_extension": ".py",
   "mimetype": "text/x-python",
   "name": "python",
   "nbconvert_exporter": "python",
   "pygments_lexer": "ipython3",
   "version": "3.10.4"
  }
 },
 "nbformat": 4,
 "nbformat_minor": 2
}
